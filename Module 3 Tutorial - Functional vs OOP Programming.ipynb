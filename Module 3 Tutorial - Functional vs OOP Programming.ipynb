{
 "cells": [
  {
   "cell_type": "markdown",
   "id": "25d5e52b-4d38-45d0-b662-9c23a5d7ad1b",
   "metadata": {},
   "source": [
    "Module 3 Tutorial - Functional vs OOP Programming\n"
   ]
  },
  {
   "cell_type": "markdown",
   "id": "3cc54ee2-6291-4d2f-9c4f-33af95d97ad5",
   "metadata": {},
   "source": [
    "OOP Programming:\n"
   ]
  },
  {
   "cell_type": "code",
   "execution_count": 19,
   "id": "d358796e-46fa-4c0d-a0e2-90e06f30ec74",
   "metadata": {},
   "outputs": [
    {
     "ename": "NameError",
     "evalue": "name 'arr' is not defined",
     "output_type": "error",
     "traceback": [
      "\u001b[1;31m---------------------------------------------------------------------------\u001b[0m",
      "\u001b[1;31mNameError\u001b[0m                                 Traceback (most recent call last)",
      "Cell \u001b[1;32mIn[19], line 5\u001b[0m\n\u001b[0;32m      1\u001b[0m \u001b[38;5;66;03m#{ \u001b[39;00m\n\u001b[0;32m      2\u001b[0m \u001b[38;5;66;03m# Driver Code Starts\u001b[39;00m\n\u001b[0;32m      3\u001b[0m \n\u001b[0;32m      4\u001b[0m \u001b[38;5;66;03m# } Driver Code Ends\u001b[39;00m\n\u001b[1;32m----> 5\u001b[0m \u001b[38;5;28;01mclass\u001b[39;00m \u001b[38;5;21;01mSolution\u001b[39;00m:\n\u001b[0;32m      6\u001b[0m \u001b[38;5;66;03m# Function to sort an array of 0s, 1s, and 2s\u001b[39;00m\n\u001b[0;32m      7\u001b[0m         \u001b[38;5;28;01mdef\u001b[39;00m \u001b[38;5;21msort012\u001b[39m(\u001b[38;5;28mself\u001b[39m, arr):\n\u001b[0;32m      8\u001b[0m \u001b[38;5;66;03m# code here\u001b[39;00m\n\u001b[0;32m      9\u001b[0m             low \u001b[38;5;241m=\u001b[39m \u001b[38;5;241m0\u001b[39m\n",
      "Cell \u001b[1;32mIn[19], line 11\u001b[0m, in \u001b[0;36mSolution\u001b[1;34m()\u001b[0m\n\u001b[0;32m      9\u001b[0m     low \u001b[38;5;241m=\u001b[39m \u001b[38;5;241m0\u001b[39m\n\u001b[0;32m     10\u001b[0m mid \u001b[38;5;241m=\u001b[39m \u001b[38;5;241m0\u001b[39m\n\u001b[1;32m---> 11\u001b[0m high \u001b[38;5;241m=\u001b[39m \u001b[38;5;28mlen\u001b[39m(arr) \u001b[38;5;241m-\u001b[39m \u001b[38;5;241m1\u001b[39m\n\u001b[0;32m     13\u001b[0m \u001b[38;5;28;01mwhile\u001b[39;00m mid \u001b[38;5;241m<\u001b[39m\u001b[38;5;241m=\u001b[39m high:\n\u001b[0;32m     14\u001b[0m     \u001b[38;5;28;01mif\u001b[39;00m arr[mid] \u001b[38;5;241m==\u001b[39m \u001b[38;5;241m0\u001b[39m:\n",
      "\u001b[1;31mNameError\u001b[0m: name 'arr' is not defined"
     ]
    }
   ],
   "source": [
    "#{ \n",
    " # Driver Code Starts\n",
    "\n",
    "# } Driver Code Ends\n",
    "class Solution:\n",
    "    # Function to sort an array of 0s, 1s, and 2s\n",
    "    def sort012(self, arr):\n",
    "        # code here\n",
    "        c0 = 0\n",
    "        c1 = 0\n",
    "        c2 = 0\n",
    "        \n",
    "    for num in arr:\n",
    "        if num == 0:\n",
    "            c0 += 1\n",
    "        elif num == 1:\n",
    "            c1 += 1\n",
    "        else:\n",
    "            c2 += 1\n",
    "\n",
    "\n",
    "#{ \n",
    " # Driver Code Starts.\n",
    "def main():\n",
    "    t = int(input().strip())  # Read the number of test cases\n",
    "    ob = Solution()\n",
    "    while t > 0:\n",
    "        t -= 1\n",
    "        arr = list(map(int,\n",
    "                       input().strip().split())\n",
    "                   )  # Read the array as space-separated integers\n",
    "        ob.sort012(arr)  # Sort the array\n",
    "\n",
    "        print(' '.join(map(str, arr)))  # Print the sorted array\n",
    "        print(\"~\")\n",
    "if __name__ == \"__main__\":\n",
    "    main()\n",
    "\n",
    "# } Driver Code Ends"
   ]
  },
  {
   "cell_type": "markdown",
   "id": "4e86ce11-6c22-42b0-976a-916d8fccf166",
   "metadata": {},
   "source": [
    "Functional Programming:\n"
   ]
  },
  {
   "cell_type": "code",
   "execution_count": null,
   "id": "98370c81-2df1-4676-a32b-f2208e0e1e10",
   "metadata": {},
   "outputs": [],
   "source": [
    "#User function template for Python\n",
    "\n",
    "class Solution:\n",
    "    def binarysearch(self, arr, k):\n",
    "        # Code Here\n",
    "        arr = [10, 20, 30, 40, 60, 110, 120, 130, 170]\n",
    "        x = 175\n",
    "\n",
    "\n",
    "#{ \n",
    " # Driver Code Starts\n",
    "#Initial template for Python\n",
    "\n",
    "if __name__ == \"__main__\":\n",
    "    t = int(input())\n",
    "    for _ in range(t):\n",
    "        k = int(input())\n",
    "        arr = list(map(int, input().split()))\n",
    "        ob = Solution()\n",
    "        res = ob.binarysearch(arr, k)\n",
    "        print(res)\n",
    "        print(\"~\")\n",
    "\n",
    "# } Driver Code Ends"
   ]
  }
 ],
 "metadata": {
  "kernelspec": {
   "display_name": "Python 3 (ipykernel)",
   "language": "python",
   "name": "python3"
  },
  "language_info": {
   "codemirror_mode": {
    "name": "ipython",
    "version": 3
   },
   "file_extension": ".py",
   "mimetype": "text/x-python",
   "name": "python",
   "nbconvert_exporter": "python",
   "pygments_lexer": "ipython3",
   "version": "3.12.4"
  }
 },
 "nbformat": 4,
 "nbformat_minor": 5
}
